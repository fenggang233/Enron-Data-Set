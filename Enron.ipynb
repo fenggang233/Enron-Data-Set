{
 "cells": [
  {
   "cell_type": "code",
   "execution_count": 1,
   "metadata": {
    "collapsed": true
   },
   "outputs": [],
   "source": [
    "import nltk.classify.util\n",
    "from nltk.corpus import stopwords\n",
    "from nltk.tokenize import word_tokenize\n",
    "from nltk.corpus import wordnet"
   ]
  },
  {
   "cell_type": "code",
   "execution_count": 2,
   "metadata": {
    "collapsed": false
   },
   "outputs": [
    {
     "name": "stdout",
     "output_type": "stream",
     "text": [
      "1893811\n"
     ]
    }
   ],
   "source": [
    "with open(\"klay.txt\", \"r\") as f:\n",
    "    text = f.read()\n",
    "\n",
    "words = word_tokenize(text)\n",
    "print(len(words))\n"
   ]
  },
  {
   "cell_type": "code",
   "execution_count": 3,
   "metadata": {
    "collapsed": false
   },
   "outputs": [
    {
     "name": "stdout",
     "output_type": "stream",
     "text": [
      "1374029\n"
     ]
    }
   ],
   "source": [
    "useful_words = [word for word in words if word not in stopwords.words('english')]\n",
    "print(len(useful_words))"
   ]
  },
  {
   "cell_type": "code",
   "execution_count": 4,
   "metadata": {
    "collapsed": false
   },
   "outputs": [
    {
     "name": "stdout",
     "output_type": "stream",
     "text": [
      "[(',', 82443), ('.', 59565), ('--', 27631), ('?', 26239), ('>', 22136), (':', 21640), ('@', 20084), ('Enron', 14523), ('I', 13876), (\"'s\", 10955), (\"''\", 10808), (')', 10030), ('(', 9479), ('<', 7817), ('-', 7337), ('The', 7067), (';', 5981), ('company', 5943), ('``', 5724), ('employees', 5234)]\n"
     ]
    }
   ],
   "source": [
    "freq_dist = nltk.FreqDist(useful_words)\n",
    "\n",
    "print(freq_dist.most_common(20))"
   ]
  },
  {
   "cell_type": "code",
   "execution_count": 5,
   "metadata": {
    "collapsed": false
   },
   "outputs": [
    {
     "name": "stdout",
     "output_type": "stream",
     "text": [
      "[(',', 82443), ('.', 59565), ('--', 27631), ('?', 26239), ('>', 22136), (':', 21640), ('@', 20084), ('Enron', 14523), ('I', 13876), (\"'s\", 10955), (\"''\", 10808), (')', 10030), ('(', 9479), ('<', 7817), ('-', 7337), ('The', 7067), (';', 5981), ('company', 5943), ('``', 5724), ('employees', 5234), ('$', 4969), ('energy', 4437), ('To', 3994), ('made', 3994), ('=20', 3918), ('would', 3843), ('California', 3734), ('Lay', 3457), ('consumers', 3441), ('http', 3213), ('Ken', 3194), ('Please', 3129), ('&', 3048), ('We', 3032), ('million', 2866), ('!', 2678), ('stock', 2670), ('Mr.', 2531), ('pay', 2491), ('...', 2444), ('funds', 2393), ('retirement', 2329), ('bills', 2298), ('bankruptcy', 2297), ('millions', 2294), ('donate', 2260), ('declared', 2250), (\"n't\", 2217), ('year', 2201), ('New', 2190), ('As', 2181), ('ENRON', 2181), ('help', 2153), ('information', 2095), ('know', 2086), ('last', 2060), ('time', 2038), ('*', 2032), ('well', 1997), ('If', 1930), ('us', 1911), ('many', 1899), (\"'\", 1879), ('please', 1868), ('new', 1821), ('provide', 1818), ('Subject', 1780), ('2000', 1753), ('like', 1749), ('This', 1733), ('business', 1706), ('meeting', 1701), ('%', 1678), ('Houston', 1657), ('York', 1558), ('2001', 1535), ('keep', 1521), ('=', 1521), ('ECT', 1519), (\"'m\", 1517), ('also', 1516), ('efforts', 1504), ('And', 1488), ('In', 1459), ('one', 1458), ('enron.com', 1430), ('money', 1426), ('state', 1423), ('set', 1422), ('Sincerely', 1398), ('call', 1385), ('100', 1373), ('result', 1362), ('largest', 1354), ('may', 1353), ('plans', 1352), ('Times', 1351), ('October', 1350), ('Communications', 1293), ('A', 1292)]\n"
     ]
    }
   ],
   "source": [
    "print(freq_dist.most_common(100))"
   ]
  },
  {
   "cell_type": "code",
   "execution_count": null,
   "metadata": {
    "collapsed": true
   },
   "outputs": [],
   "source": []
  }
 ],
 "metadata": {
  "kernelspec": {
   "display_name": "Python 3",
   "language": "python",
   "name": "python3"
  },
  "language_info": {
   "codemirror_mode": {
    "name": "ipython",
    "version": 3
   },
   "file_extension": ".py",
   "mimetype": "text/x-python",
   "name": "python",
   "nbconvert_exporter": "python",
   "pygments_lexer": "ipython3",
   "version": "3.4.3"
  }
 },
 "nbformat": 4,
 "nbformat_minor": 0
}
