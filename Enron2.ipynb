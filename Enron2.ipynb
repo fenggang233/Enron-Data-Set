{
 "cells": [
  {
   "cell_type": "code",
   "execution_count": null,
   "metadata": {
    "collapsed": true
   },
   "outputs": [],
   "source": [
    "%%timeit\n",
    "\n",
    "from email.parser import Parser\n",
    "import os\n",
    "import re\n",
    "from collections import Counter\n",
    "import pdb\n",
    "\n",
    "def email_count(input_file, to_email_list, from_email_list, email_body):\n",
    "    with open(input_file, \"r\") as f:\n",
    "        email_data = f.read()\n",
    "    #if input_file == 'C:\\\\Users\\\\Shantnu\\\\Desktop\\\\Data Sources\\\\maildir\\\\allen-p\\\\inbox\\\\13':\n",
    "    #pdb.set_trace()\n",
    "    #print(\"File name = \", input_file)\n",
    "    email = Parser().parsestr(email_data)\n",
    "\n",
    "    if email['to']:\n",
    "        to_email = email['to'].replace(\"\\n\", \"\")\n",
    "        to_email = to_email.replace(\"\\t\", \"\")\n",
    "        to_email = to_email.replace(\" \", \"\")\n",
    "        to_email = to_email.split(\",\")\n",
    "\n",
    "        for email1 in to_email:\n",
    "            if email1 == None:\n",
    "                pdb.set_trace()\n",
    "            to_email_list.append(email1)\n",
    "            #print(email1)\n",
    "        #print(\"To: \", to_email)\n",
    "        #print(\"\\n-----\\n\")\n",
    "    #print(\"From: \", email['from'])\n",
    "    #print(\"\\n-----\\n\")\n",
    "    #pdb.set_trace()\n",
    "    from_email_list.append(email['from'])\n",
    "    email_body.append(email.get_payload())\n",
    "    \n",
    "    \n",
    "\n",
    "\n",
    "# In[ ]:\n",
    "\n",
    "to_email_list = []\n",
    "from_email_list = []\n",
    "\n",
    "rootDir = 'C:\\\\Users\\\\Shantnu\\\\Desktop\\\\Data Sources\\\\maildir\\\\'\n",
    "count = 0\n",
    "for dirName, subdirList, fileList in os.walk(rootDir):\n",
    "    for filename in fileList:\n",
    "        email_body = []\n",
    "        email_count(os.path.join(dirName, filename), to_email_list, from_email_list, email_body)\n",
    "        #print (str(count)+\" \", end=\"\")\n",
    "        count += 1\n",
    "        #with open(\"email_text.txt\", \"a\") as f:\n",
    "        #    f.write(\"\\n\".join(email_body))\n",
    "\n",
    "#pdb.set_trace()\n",
    "#print(\"\\n\\nTop To email addresses: \\n \")        \n",
    "#print(Counter(to_email_list).most_common(5))\n",
    "\n",
    "#print(\"\\n\\nTop Fm email addresses: \\n \")        \n",
    "#print(Counter(from_email_list))\n",
    "print(\"To: \")\n",
    "print(Counter(to_email_list).most_common(10))\n",
    "print(\"\\n\\n\")\n",
    "print(\"From: \")\n",
    "print(Counter(from_email_list).most_common(10))\n",
    "\n",
    "\n",
    "\n",
    "\n",
    "\n"
   ]
  },
  {
   "cell_type": "code",
   "execution_count": null,
   "metadata": {
    "collapsed": true
   },
   "outputs": [],
   "source": []
  }
 ],
 "metadata": {
  "kernelspec": {
   "display_name": "Python 3",
   "language": "python",
   "name": "python3"
  },
  "language_info": {
   "codemirror_mode": {
    "name": "ipython",
    "version": 3
   },
   "file_extension": ".py",
   "mimetype": "text/x-python",
   "name": "python",
   "nbconvert_exporter": "python",
   "pygments_lexer": "ipython3",
   "version": "3.4.3"
  }
 },
 "nbformat": 4,
 "nbformat_minor": 0
}
